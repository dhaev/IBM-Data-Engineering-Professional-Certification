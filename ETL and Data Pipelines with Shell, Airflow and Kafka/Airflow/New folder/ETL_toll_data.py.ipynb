{
 "cells": [
  {
   "cell_type": "code",
   "execution_count": null,
   "metadata": {},
   "outputs": [],
   "source": [
    "# import the libraries\n",
    "\n",
    "from datetime import timedelta\n",
    "# The DAG object; we'll need this to instantiate a DAG\n",
    "from airflow.models import DAG\n",
    "# Operators; you need this to write tasks!\n",
    "from airflow.operators.bash_operator import BashOperator\n",
    "# This makes scheduling easy\n",
    "from airflow.utils.dates import days_ago"
   ]
  },
  {
   "cell_type": "code",
   "execution_count": null,
   "metadata": {},
   "outputs": [],
   "source": [
    "#defining DAG arguments\n",
    "\n",
    "# You can override them on a per-task basis during operator initialization\n",
    "default_args = {\n",
    "    'owner': 'Lavanya',\n",
    "    'start_date': days_ago(0),\n",
    "    'email': ['lavanya@somemail.com'],\n",
    "    'email_on_failure': True,\n",
    "    'email_on_retry': True,\n",
    "    'retries': 1,\n",
    "    'retry_delay': timedelta(minutes=5),\n",
    "}"
   ]
  },
  {
   "cell_type": "code",
   "execution_count": null,
   "metadata": {},
   "outputs": [],
   "source": [
    "# define the DAG\n",
    "dag = DAG(\n",
    "    dag_id='ETL_toll_data',\n",
    "    default_args=default_args,\n",
    "    description='Apache Airflow Final Assignment',\n",
    "    schedule_interval=timedelta(days=1),\n",
    ")"
   ]
  },
  {
   "cell_type": "code",
   "execution_count": null,
   "metadata": {},
   "outputs": [],
   "source": [
    "# define the tasks\n",
    "\n",
    "# define the first task - unzip_data\n",
    "unzip_data = BashOperator(\n",
    "    task_id='unzip_data',\n",
    "    bash_command='tar -zxvf /home/project/airflow/dags/finalassignment/tolldata.tgz',\n",
    "    dag=dag,\n",
    ")\n",
    "\n",
    "# define the second task - extract_from_csv\n",
    "extract_data_from_csv = BashOperator(\n",
    "    task_id='extract_data_from_csv',\n",
    "    bash_command='cut -d\",\" -f1-4 /home/project/airflow/dags/finalassignment/vehicle-data.csv_> \\\n",
    "          /home/project/airflow/dags/finalassignment/csv_data.csv',\n",
    "    dag=dag,\n",
    ")\n",
    "\n",
    "# define the third task - extract_data_from_tsv\n",
    "extract_data_from_tsv = BashOperator(\n",
    "    task_id='extract_data_from_tsv',\n",
    "    bash_command='cut -d -f5-7 /home/project/airflow/dags/finalassignment/tollplaza-data.tsv_> \\\n",
    "          / home/project/airflow/dags/finalassignment/tsv_data.csv',\n",
    "    dag=dag,\n",
    ")\n",
    "\n",
    "# define the fourth task - extract_data_from_fixed_width\n",
    "extract_data_from_fixed_width = BashoOperator( \n",
    "    task_id='extract_data_from_fixed_width',\n",
    "      bash_command='cut -c59-67 /home/project/airflow/dags/finalassignment/payment-data.txt \\\n",
    "        |tr \" \" \",\" > \\\n",
    "         /home/project/airflow/dags/finalassignment/fixed_width_data.csv',\n",
    "        dag=dag,\n",
    ")\n",
    "\n",
    "# define the fifth task - consolidate_data\n",
    "consolidate_data = BashOperator (\n",
    "    task_id='consolidate_data',\n",
    "    bash_command='paste /home/project/airflow/dags/finalassignment/csv_data.csv \\\n",
    "          /home/project/airflow/dags/finalassignment/tsv_data.Csv \\\n",
    "          /home/project/airflow/dags/finalassignment/fixed_width_data.csv > /home/project/airflow/dags/finalassignment/extracted_data.csv',\n",
    "     dag=dag,\n",
    ")\n",
    "\n",
    "# define the sixth task - transform_data\n",
    "transform_data = BashOperator (\n",
    "    task_id='transform_data',\n",
    "    bash_command='tr \"[a-z]\" \"[A-Z]\" < /home/project/airflow/dags/finalassignment/extracted_data.csv \\\n",
    "    > /home/project/airflow/dags/finalassignment/staging/transformed_data.csv',\n",
    "    dag=dag,\n",
    ")"
   ]
  },
  {
   "cell_type": "code",
   "execution_count": null,
   "metadata": {},
   "outputs": [],
   "source": [
    "# task pipeline\n",
    "unzip_data >> extract_data_from_csv >> extract_data_from_tsv >> extract_data_from_fixed_width >> consolidate_data >> transform_data"
   ]
  }
 ],
 "metadata": {
  "language_info": {
   "name": "python"
  }
 },
 "nbformat": 4,
 "nbformat_minor": 2
}
